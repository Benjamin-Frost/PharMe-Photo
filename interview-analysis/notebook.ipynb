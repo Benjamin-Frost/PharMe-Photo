{
 "cells": [
  {
   "cell_type": "code",
   "execution_count": 5,
   "metadata": {},
   "outputs": [],
   "source": [
    "# name of preprocessed csv file\n",
    "file_processed = 'interview-mocks/mock_processed_en.csv'"
   ]
  },
  {
   "cell_type": "code",
   "execution_count": 40,
   "metadata": {},
   "outputs": [],
   "source": [
    "# --- run once to download, filter, translate & save interview data ---\n",
    "# (deepl limits number of chars you can translate per month)\n",
    "# (skip if using mock data without setting up .env)\n",
    "\n",
    "# options\n",
    "sheet_name = 'mock'\n",
    "file_download = 'interview-mocks/mock_raw.csv'\n",
    "\n",
    "from dotenv import load_dotenv; load_dotenv(); import os\n",
    "from data_import import columns_from, fetch_google_sheet\n",
    "fetch_google_sheet(os.getenv('GOOGLE_SHEET_ID'), sheet_name, file_download)\n",
    "_ = columns_from(file_download, should_translate=True, file_out=file_processed)"
   ]
  },
  {
   "cell_type": "code",
   "execution_count": 6,
   "metadata": {},
   "outputs": [],
   "source": [
    "import re\n",
    "# --- run to setup natural language processor ---\n",
    "from analysis import NLProcessor\n",
    "NLProcessor.ready() # this may take a minute or two when notebook is restarted\n",
    "# compute similarity with       .\n",
    "NLProcessor.set_similarity_data('medicine')"
   ]
  },
  {
   "cell_type": "code",
   "execution_count": null,
   "metadata": {},
   "outputs": [],
   "source": [
    "from data_import import columns_from\n",
    "use_columns = lambda col_name: 'Assoziationen' in col_name\n",
    "cols = {\n",
    "    header: [\n",
    "        (lambda content: {\n",
    "            'content': content,\n",
    "            'sentiment': NLProcessor.sentiment(content)['compound'],\n",
    "            'similarity': NLProcessor.similarity(content)\n",
    "        })(re.sub('^[^a-zA-Z\"\\']*', '', cell, flags=re.MULTILINE).replace('\\n', '; '))\n",
    "    for cell in column]\n",
    "for header, column in columns_from(file_processed, use_col=use_columns).items() }\n",
    "\n",
    "for header, column in cols.items():\n",
    "    print(header)\n",
    "    for cell in column:\n",
    "        print(cell, end=' ')\n",
    "        print()\n",
    "    print()"
   ]
  },
  {
   "cell_type": "code",
   "execution_count": null,
   "metadata": {},
   "outputs": [],
   "source": []
  }
 ],
 "metadata": {
  "interpreter": {
   "hash": "aee8b7b246df8f9039afb4144a1f6fd8d2ca17a180786b69acc140d282b71a49"
  },
  "kernelspec": {
   "display_name": "Python 3.9.1 64-bit",
   "language": "python",
   "name": "python3"
  },
  "language_info": {
   "codemirror_mode": {
    "name": "ipython",
    "version": 3
   },
   "file_extension": ".py",
   "mimetype": "text/x-python",
   "name": "python",
   "nbconvert_exporter": "python",
   "pygments_lexer": "ipython3",
   "version": "3.9.9"
  },
  "orig_nbformat": 4
 },
 "nbformat": 4,
 "nbformat_minor": 2
}
