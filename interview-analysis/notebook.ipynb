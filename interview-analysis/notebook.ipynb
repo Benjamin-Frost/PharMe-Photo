{
 "cells": [
  {
   "cell_type": "code",
   "execution_count": 1,
   "metadata": {},
   "outputs": [],
   "source": [
    "from data_import import columns_from\n",
    "import re"
   ]
  },
  {
   "cell_type": "code",
   "execution_count": 5,
   "metadata": {},
   "outputs": [],
   "source": [
    "# only run to process results for the first time (deepl limits number of chars you can translate per month)\n",
    "_ = columns_from('interview-data/results_raw_220104.csv',\n",
    "    use_col=lambda c: 'Assoziationen' in c,\n",
    "    should_translate=True, file_out='interview-data/results_processed_en.csv')\n",
    "# use processed results from here on out"
   ]
  },
  {
   "cell_type": "code",
   "execution_count": null,
   "metadata": {},
   "outputs": [],
   "source": [
    "cols = {\n",
    "    header: [\n",
    "        re.sub('^[^a-zA-Z\"\\']*', '', line)\n",
    "    for cell_lines in [cell.split('\\n') for cell in cells] for line in cell_lines]\n",
    "for header, cells in columns_from('interview-data/results_processed_en.csv').items() }\n",
    "\n",
    "for header, cells in cols.items():\n",
    "    print(header)\n",
    "    for cell in cells: print(cell)\n",
    "    print()"
   ]
  },
  {
   "cell_type": "code",
   "execution_count": null,
   "metadata": {},
   "outputs": [],
   "source": []
  }
 ],
 "metadata": {
  "interpreter": {
   "hash": "aee8b7b246df8f9039afb4144a1f6fd8d2ca17a180786b69acc140d282b71a49"
  },
  "kernelspec": {
   "display_name": "Python 3.9.1 64-bit",
   "language": "python",
   "name": "python3"
  },
  "language_info": {
   "codemirror_mode": {
    "name": "ipython",
    "version": 3
   },
   "file_extension": ".py",
   "mimetype": "text/x-python",
   "name": "python",
   "nbconvert_exporter": "python",
   "pygments_lexer": "ipython3",
   "version": "3.9.1"
  },
  "orig_nbformat": 4
 },
 "nbformat": 4,
 "nbformat_minor": 2
}
