{
 "cells": [
  {
   "cell_type": "code",
   "execution_count": null,
   "metadata": {},
   "outputs": [],
   "source": [
    "# name of preprocessed csv file\n",
    "file_processed = 'interview-data/results220105_processed.csv'"
   ]
  },
  {
   "cell_type": "code",
   "execution_count": null,
   "metadata": {},
   "outputs": [],
   "source": [
    "# --- run once to download, filter, translate & save interview data ---\n",
    "# (deepl limits number of chars you can translate per month)\n",
    "# (skip if using mock data without setting up .env)\n",
    "\n",
    "# options\n",
    "sheet_name = 'mock'\n",
    "file_download = 'interview-mocks/mock_raw.csv'\n",
    "\n",
    "from dotenv import load_dotenv; load_dotenv(); import os\n",
    "from data_import import columns_from, fetch_google_sheet\n",
    "fetch_google_sheet(os.getenv('GOOGLE_SHEET_ID'), sheet_name, file_download)\n",
    "_ = columns_from(file_download, should_translate=True, file_out=file_processed)"
   ]
  },
  {
   "cell_type": "code",
   "execution_count": null,
   "metadata": {},
   "outputs": [],
   "source": [
    "import re\n",
    "# --- run to setup natural language processor ---\n",
    "from analysis import NLProcessor\n",
    "NLProcessor.ready() # this may take a minute or two when notebook is restarted\n",
    "# compute similarity with       .\n",
    "NLProcessor.set_similarity_data('medicine')"
   ]
  },
  {
   "cell_type": "code",
   "execution_count": null,
   "metadata": {},
   "outputs": [],
   "source": [
    "from data_import import columns_from\n",
    "use_columns = lambda col_name: 'Assoziationen' in col_name\n",
    "cols = {\n",
    "    header: [\n",
    "        (lambda content: {\n",
    "            'content': content,\n",
    "            'sentiment': NLProcessor.sentiment(content)['compound'],\n",
    "            'similarity': NLProcessor.similarity(content)\n",
    "        })(re.sub('^[^a-zA-Z\"\\']*', '', cell, flags=re.MULTILINE).replace('\\n', '; '))\n",
    "    for cell in column]\n",
    "for header, column in columns_from(file_processed, use_col=use_columns).items() }\n",
    "\n",
    "for header, column in cols.items():\n",
    "    print(header)\n",
    "    for cell in column:\n",
    "        print(cell, end=' ')\n",
    "        print()\n",
    "    print()"
   ]
  },
  {
   "cell_type": "code",
   "execution_count": null,
   "metadata": {},
   "outputs": [],
   "source": [
    "import pandas as pd\n",
    "import pandas_bokeh\n",
    "plot_vals = ['content', 'sentiment', 'similarity']\n",
    "plot_cols = ['1.d) Assoziationen Namen', '1.e) Assoziationen Logo', '3.a) Assoziationen Gentest']\n",
    "titles = ['name associations', 'logo associations', 'genetic testing associations']\n",
    "dataframes = [\n",
    "    pd.DataFrame([[point[pv] for pv in plot_vals] for point in cols[col_name]], columns=plot_vals)\n",
    "for col_name in plot_cols]\n",
    "plots = [\n",
    "    df.plot_bokeh.scatter(\n",
    "        title=title, x='sentiment', y='similarity', ylabel='similarity with \"medicine\"',\n",
    "        hovertool_string='@{content}', show_figure=False,\n",
    "        xlim=(-1, 1), ylim=(1, 3))\n",
    "for df, title in zip(dataframes, titles)]\n",
    "pandas_bokeh.plot_grid([[plots[0], plots[1]], [plots[2]]])"
   ]
  },
  {
   "cell_type": "code",
   "execution_count": null,
   "metadata": {},
   "outputs": [],
   "source": [
    "plot_vals = ['content', 'sentiment', 'similarity']\n",
    "col_names = ['1.d) Assoziationen Namen', '1.e) Assoziationen Logo', '3.a) Assoziationen Gentest']\n",
    "titles = ['name', 'logo', 'genetic testing']\n",
    "dataframe = pd.DataFrame([\n",
    "    row for title, col_name in zip(titles, col_names) for row in [\n",
    "        [title] + [point[pv] for pv in plot_vals] for point in cols[col_name]\n",
    "    ]\n",
    "], columns=['title'] + plot_vals)\n",
    "dataframe.plot_bokeh.scatter(\n",
    "    title='associations', ylabel='similarity with \"medicine\"',\n",
    "    x='sentiment', y='similarity', category='title',\n",
    "    hovertool_string='@{content}',\n",
    "    xlim=(-1, 1), ylim=(1, 3), figsize=(1000, 600),\n",
    "    toolbar_location=None, colormap=('#5B16D0', '#3594DD', '#ED419C'), line_color='white', size=20\n",
    ")"
   ]
  },
  {
   "cell_type": "code",
   "execution_count": null,
   "metadata": {},
   "outputs": [],
   "source": []
  }
 ],
 "metadata": {
  "interpreter": {
   "hash": "aee8b7b246df8f9039afb4144a1f6fd8d2ca17a180786b69acc140d282b71a49"
  },
  "kernelspec": {
   "display_name": "Python 3.9.1 64-bit",
   "language": "python",
   "name": "python3"
  },
  "language_info": {
   "codemirror_mode": {
    "name": "ipython",
    "version": 3
   },
   "file_extension": ".py",
   "mimetype": "text/x-python",
   "name": "python",
   "nbconvert_exporter": "python",
   "pygments_lexer": "ipython3",
   "version": "3.9.10"
  },
  "orig_nbformat": 4
 },
 "nbformat": 4,
 "nbformat_minor": 2
}
