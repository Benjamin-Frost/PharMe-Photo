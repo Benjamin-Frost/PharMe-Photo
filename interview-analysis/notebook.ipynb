{
 "cells": [
  {
   "cell_type": "code",
   "execution_count": 21,
   "metadata": {},
   "outputs": [],
   "source": [
    "from data_import import columns_from, fetch_google_sheet"
   ]
  },
  {
   "cell_type": "code",
   "execution_count": 14,
   "metadata": {},
   "outputs": [],
   "source": [
    "# fetch mock data from google sheet\n",
    "fetch_google_sheet('secret secret :)', 'mock', 'interview-mocks/mock_raw.csv')\n",
    "# only run to process results once to update sheet data, then use processed file\n",
    "# (deepl limits number of chars you can translate per month)\n",
    "_ = columns_from('interview-mocks/mock_raw.csv',\n",
    "    use_col=lambda c: 'Assoziationen' in c,\n",
    "    should_translate=True, file_out='interview-mocks/mock_processed_en.csv')"
   ]
  },
  {
   "cell_type": "code",
   "execution_count": 24,
   "metadata": {},
   "outputs": [],
   "source": [
    "import re\n",
    "from analysis import NLProcessor\n",
    "NLProcessor.ready()\n",
    "NLProcessor.set_similarity_data('medicine')"
   ]
  },
  {
   "cell_type": "code",
   "execution_count": 25,
   "metadata": {},
   "outputs": [
    {
     "name": "stdout",
     "output_type": "stream",
     "text": [
      "1.d) Assoziationen Namen\n",
      "{'content': 'Hydroponics; urban agriculture; cozy', 'sentiment': 0.0, 'similarity': 1.4194001718140583} \n",
      "{'content': 'Medicine, personalized, insecurity', 'sentiment': -0.4215, 'similarity': 2.5295656443191765} \n",
      "\n",
      "1.e) Assoziationen Logo\n",
      "{'content': 'Bug, Plant, hungry', 'sentiment': 0.0, 'similarity': 1.1364980244651763} \n",
      "{'content': 'Genes; Pill; curiosity', 'sentiment': 0.0, 'similarity': 1.5943028585811951} \n",
      "\n",
      "3.a) Assoziationen Gentest\n",
      "{'content': 'Surveillance, unsafe, distrust', 'sentiment': -0.4215, 'similarity': 1.5634316159714607} \n",
      "{'content': 'future, modern, advanced', 'sentiment': 0.25, 'similarity': 2.034729870622141} \n",
      "\n"
     ]
    }
   ],
   "source": [
    "cols = {\n",
    "    header: [\n",
    "        (lambda content: {\n",
    "            'content': content,\n",
    "            'sentiment': NLProcessor.sentiment(content)['compound'],\n",
    "            'similarity': NLProcessor.similarity(content)\n",
    "        })(re.sub('^[^a-zA-Z\"\\']*', '', cell, flags=re.MULTILINE).replace('\\n', '; '))\n",
    "    for cell in column]\n",
    "for header, column in columns_from('interview-mocks/mock_processed_en.csv').items() }\n",
    "\n",
    "for header, column in cols.items():\n",
    "    print(header)\n",
    "    for cell in column:\n",
    "        print(cell, end=' ')\n",
    "        print()\n",
    "    print()"
   ]
  },
  {
   "cell_type": "code",
   "execution_count": null,
   "metadata": {},
   "outputs": [],
   "source": []
  }
 ],
 "metadata": {
  "interpreter": {
   "hash": "aee8b7b246df8f9039afb4144a1f6fd8d2ca17a180786b69acc140d282b71a49"
  },
  "kernelspec": {
   "display_name": "Python 3.9.1 64-bit",
   "language": "python",
   "name": "python3"
  },
  "language_info": {
   "codemirror_mode": {
    "name": "ipython",
    "version": 3
   },
   "file_extension": ".py",
   "mimetype": "text/x-python",
   "name": "python",
   "nbconvert_exporter": "python",
   "pygments_lexer": "ipython3",
   "version": "3.9.9"
  },
  "orig_nbformat": 4
 },
 "nbformat": 4,
 "nbformat_minor": 2
}
