{
 "cells": [
  {
   "cell_type": "code",
   "execution_count": null,
   "metadata": {},
   "outputs": [],
   "source": [
    "# --- get data ready to be used ---\n",
    "# only fetch and translate once, then use preprocessed (translated & filtered) file\n",
    "fetch_and_translate = False\n",
    "# output file after preprocessing\n",
    "file_processed = 'interview-mocks/mock_processed_en.csv'\n",
    "\n",
    "if fetch_and_translate:\n",
    "    # google docs data\n",
    "    sheet_name = 'mock'\n",
    "    file_download = 'interview-mocks/mock_raw.csv'\n",
    "\n",
    "    # preprocess\n",
    "    from dotenv import load_dotenv; load_dotenv(); import os\n",
    "    from data_import import columns_from, fetch_google_sheet\n",
    "    fetch_google_sheet(os.getenv('GOOGLE_SHEET_ID'), sheet_name, file_download)\n",
    "    columns_from(file_download, should_translate=True, file_out=file_processed)"
   ]
  },
  {
   "cell_type": "code",
   "execution_count": null,
   "metadata": {},
   "outputs": [],
   "source": [
    "# --- setup natural language processor ---\n",
    "from analysis import NLProcessor\n",
    "compare_similarity = 'medicine'\n",
    "NLProcessor.ready_similarity(compare_similarity) # this may take a minute or two when notebook is restarted"
   ]
  },
  {
   "cell_type": "code",
   "execution_count": null,
   "metadata": {},
   "outputs": [],
   "source": [
    "# --- define data to plot ---\n",
    "# which columns to use\n",
    "used_columns = lambda name: 'Associations' in name\n",
    "# what values to plot for each cell\n",
    "plot_values = {\n",
    "    'values': lambda cell_content: [\n",
    "        cell_content, NLProcessor.similarity(cell_content), NLProcessor.sentiment(cell_content)['compound']\n",
    "    ],\n",
    "    'value_names': ['content', 'relatedness', 'sentiment']\n",
    "}"
   ]
  },
  {
   "cell_type": "code",
   "execution_count": null,
   "metadata": {},
   "outputs": [],
   "source": [
    "# --- plot data interactively in browser ---\n",
    "from data_import import columns_from\n",
    "import pandas as pd\n",
    "import pandas_bokeh\n",
    "\n",
    "# build data frame by definitions above\n",
    "cols = columns_from(file_processed, use_col=used_columns)\n",
    "dataframe = pd.DataFrame(\n",
    "    [\n",
    "        plot_vals for name, cells in cols.items()\n",
    "        for plot_vals in [[name] + plot_values['values'](cell) for cell in cells]\n",
    "    ],\n",
    "    columns=['title'] + plot_values['value_names']\n",
    ")\n",
    "# plot\n",
    "dataframe.plot_bokeh.scatter(\n",
    "    title='associations', ylabel=f'relatedness to \"{compare_similarity}\"',\n",
    "    x='sentiment', y='relatedness', category='title',\n",
    "    hovertool_string='@{content}',\n",
    "    xlim=(-1, 1), ylim=(0.5, 2), figsize=(1000, 600),\n",
    "    toolbar_location=None, colormap=('#5B16D0', '#3594DD', '#ED419C'), line_color='white', size=20\n",
    ")"
   ]
  }
 ],
 "metadata": {
  "interpreter": {
   "hash": "aee8b7b246df8f9039afb4144a1f6fd8d2ca17a180786b69acc140d282b71a49"
  },
  "kernelspec": {
   "display_name": "Python 3.9.1 64-bit",
   "language": "python",
   "name": "python3"
  },
  "language_info": {
   "codemirror_mode": {
    "name": "ipython",
    "version": 3
   },
   "file_extension": ".py",
   "mimetype": "text/x-python",
   "name": "python",
   "nbconvert_exporter": "python",
   "pygments_lexer": "ipython3",
   "version": "3.9.12"
  },
  "orig_nbformat": 4
 },
 "nbformat": 4,
 "nbformat_minor": 2
}
